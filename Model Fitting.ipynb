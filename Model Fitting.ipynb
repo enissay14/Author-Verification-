{
 "cells": [
  {
   "cell_type": "code",
   "execution_count": 61,
   "metadata": {
    "collapsed": true
   },
   "outputs": [],
   "source": [
    "%matplotlib inline\n",
    "from sklearn import tree\n",
    "from sklearn.ensemble import RandomForestClassifier \n",
    "from sklearn import cross_validation\n",
    "import numpy as np\n",
    "from time import time\n",
    "from operator import itemgetter\n",
    "from scipy.stats import randint as sp_randint\n",
    "\n",
    "from sklearn.grid_search import GridSearchCV\n",
    "from sklearn.datasets import load_digits\n",
    "import matplotlib.pyplot as plt"
   ]
  },
  {
   "cell_type": "markdown",
   "metadata": {},
   "source": [
    "Reading Mtrain and Target file..."
   ]
  },
  {
   "cell_type": "code",
   "execution_count": 4,
   "metadata": {
    "collapsed": true
   },
   "outputs": [],
   "source": [
    "Mtrain = np.load('Mtrain.npy') \n",
    "target = np.load('Target.npy')"
   ]
  },
  {
   "cell_type": "markdown",
   "metadata": {},
   "source": [
    "## Decision Tree:"
   ]
  },
  {
   "cell_type": "markdown",
   "metadata": {},
   "source": [
    "Defining the parameter min_samples 5% of len Mtrain and model fitting"
   ]
  },
  {
   "cell_type": "code",
   "execution_count": 66,
   "metadata": {
    "collapsed": false
   },
   "outputs": [
    {
     "name": "stdout",
     "output_type": "stream",
     "text": [
      "Fitting a DecisionTree with min_samples = 5\n"
     ]
    }
   ],
   "source": [
    "if int(0.05*len(Mtrain)) == 0:\n",
    "        min_samples = 1\n",
    "else:\n",
    "        min_samples = int(len(Mtrain)*0.05)\n",
    "\n",
    "print 'Fitting a DecisionTree with min_samples = '+ str(min_samples)\n",
    "clf = tree.DecisionTreeClassifier(min_samples_leaf=min_samples)\n",
    "fi_dt = clf.fit(Mtrain, target)"
   ]
  },
  {
   "cell_type": "code",
   "execution_count": 67,
   "metadata": {
    "collapsed": false
   },
   "outputs": [
    {
     "name": "stdout",
     "output_type": "stream",
     "text": [
      "feature importance:\n"
     ]
    },
    {
     "data": {
      "image/png": "[encoded data removed]",
      "text/plain": [
       "<matplotlib.figure.Figure at 0x7fa1d698b2d0>"
      ]
     },
     "metadata": {},
     "output_type": "display_data"
    }
   ],
   "source": [
    "print 'feature importance:'\n",
    "\n",
    "N = 7\n",
    "ind = np.arange(N)    # the x locations for the groups\n",
    "width = 0.35       # the width of the bars: can also be len(x) sequence\n",
    "\n",
    "p1 = plt.bar(ind,fi_dt.feature_importances_, width, color='r')\n",
    "\n",
    "plt.ylabel('%')\n",
    "plt.title('Feature Importance')\n",
    "plt.xticks(ind , ('8-gram', 'punct', 'vocab', 'phrase', 'four_pos','first_pos','last_pos'))\n",
    "plt.yticks(np.arange(0, 1,1))\n",
    "\n",
    "plt.show()"
   ]
  },
  {
   "cell_type": "markdown",
   "metadata": {},
   "source": [
    "Defining number of Cross Validation Folds"
   ]
  },
  {
   "cell_type": "code",
   "execution_count": 12,
   "metadata": {
    "collapsed": true
   },
   "outputs": [],
   "source": [
    "crossval = 10"
   ]
  },
  {
   "cell_type": "code",
   "execution_count": 14,
   "metadata": {
    "collapsed": false
   },
   "outputs": [
    {
     "name": "stdout",
     "output_type": "stream",
     "text": [
      "Scores of 10 CV folds and mean:\n",
      "[ 0.3  0.4  0.6  0.7  0.4  0.7  0.4  0.3  0.5  0.6]\n",
      "Accurancy : \n",
      "0.49\n"
     ]
    }
   ],
   "source": [
    "print 'Scores of '+ str(crossval)+' CV folds and mean:'\n",
    "scores = cross_validation.cross_val_score(clf, Mtrain, np.array(target), cv=crossval)\n",
    "print scores\n",
    "print 'Accurancy : '\n",
    "print scores.mean()"
   ]
  },
  {
   "cell_type": "markdown",
   "metadata": {},
   "source": [
    "## Random Forest"
   ]
  },
  {
   "cell_type": "markdown",
   "metadata": {},
   "source": [
    "The number of trees in the forest."
   ]
  },
  {
   "cell_type": "code",
   "execution_count": 29,
   "metadata": {
    "collapsed": true
   },
   "outputs": [],
   "source": [
    "trees = 100"
   ]
  },
  {
   "cell_type": "code",
   "execution_count": 68,
   "metadata": {
    "collapsed": false
   },
   "outputs": [
    {
     "name": "stdout",
     "output_type": "stream",
     "text": [
      "Fitting a Random Forest Classifier with 100 trees\n"
     ]
    }
   ],
   "source": [
    "print 'Fitting a Random Forest Classifier with '+str(trees)+' trees'\n",
    "forest = RandomForestClassifier(n_estimators = trees)\n",
    "fi = forest.fit(Mtrain, target)"
   ]
  },
  {
   "cell_type": "code",
   "execution_count": 69,
   "metadata": {
    "collapsed": false
   },
   "outputs": [
    {
     "name": "stdout",
     "output_type": "stream",
     "text": [
      "feature importance:\n"
     ]
    },
    {
     "data": {
      "image/png": "[encoded data removed]",
      "text/plain": [
       "<matplotlib.figure.Figure at 0x7fa1d6b0b110>"
      ]
     },
     "metadata": {},
     "output_type": "display_data"
    }
   ],
   "source": [
    "print 'feature importance:'\n",
    "\n",
    "N = 7\n",
    "ind = np.arange(N)    # the x locations for the groups\n",
    "width = 0.35       # the width of the bars: can also be len(x) sequence\n",
    "\n",
    "p1 = plt.bar(ind,fi.feature_importances_, width, color='r')\n",
    "\n",
    "plt.ylabel('%')\n",
    "plt.title('Feature Importance')\n",
    "plt.xticks(ind , ('8-gram', 'punct', 'vocab', 'phrase', 'four_pos','first_pos','last_pos'))\n",
    "plt.yticks(np.arange(0, 1,1))\n",
    "\n",
    "plt.show()"
   ]
  },
  {
   "cell_type": "code",
   "execution_count": 70,
   "metadata": {
    "collapsed": false
   },
   "outputs": [
    {
     "name": "stdout",
     "output_type": "stream",
     "text": [
      "Scores of 10 folds and mean:\n",
      "[ 0.7  0.5  0.9  0.7  0.7  0.7  0.6  0.6  0.5  0.4]\n",
      "Accurancy : \n",
      "0.63\n"
     ]
    }
   ],
   "source": [
    "print 'Scores of '+ str(crossval) +' folds and mean:'\n",
    "scores = cross_validation.cross_val_score(forest, Mtrain, np.array(target), cv = crossval)\n",
    "print scores\n",
    "print 'Accurancy : '\n",
    "print scores.mean()"
   ]
  },
  {
   "cell_type": "markdown",
   "metadata": {},
   "source": [
    "### Grid Search"
   ]
  },
  {
   "cell_type": "code",
   "execution_count": 31,
   "metadata": {
    "collapsed": true
   },
   "outputs": [],
   "source": [
    "# Utility function to report best scores\n",
    "def report(grid_scores, n_top=3):\n",
    "    top_scores = sorted(grid_scores, key=itemgetter(1), reverse=True)[:n_top]\n",
    "    for i, score in enumerate(top_scores):\n",
    "        print(\"Model with rank: {0}\".format(i + 1))\n",
    "        print(\"Mean validation score: {0:.3f} (std: {1:.3f})\".format(\n",
    "              score.mean_validation_score,\n",
    "              np.std(score.cv_validation_scores)))\n",
    "        print(\"Parameters: {0}\".format(score.parameters))\n",
    "        print(\"\")"
   ]
  },
  {
   "cell_type": "code",
   "execution_count": 34,
   "metadata": {
    "collapsed": true
   },
   "outputs": [],
   "source": [
    "# use a full grid over all parameters\n",
    "param_grid = {\"max_depth\": [3, None],\n",
    "              \"max_features\": [1, 3, 7],\n",
    "              \"min_samples_split\": [1, 3, 10],\n",
    "              \"min_samples_leaf\": [1, 3, 10],\n",
    "              \"bootstrap\": [True, False],\n",
    "              \"criterion\": [\"gini\", \"entropy\"]}"
   ]
  },
  {
   "cell_type": "code",
   "execution_count": 35,
   "metadata": {
    "collapsed": false
   },
   "outputs": [
    {
     "name": "stdout",
     "output_type": "stream",
     "text": [
      "running a grid search with a Random Forest Classifier with 100 trees...\n",
      "GridSearchCV took 203.29 seconds for 216 candidate parameter settings.\n",
      "Model with rank: 1\n",
      "Mean validation score: 0.720 (std: 0.098)\n",
      "Parameters: {'bootstrap': True, 'min_samples_leaf': 10, 'min_samples_split': 1, 'criterion': 'gini', 'max_features': 7, 'max_depth': None}\n",
      "\n",
      "Model with rank: 2\n",
      "Mean validation score: 0.720 (std: 0.082)\n",
      "Parameters: {'bootstrap': True, 'min_samples_leaf': 10, 'min_samples_split': 3, 'criterion': 'gini', 'max_features': 7, 'max_depth': None}\n",
      "\n",
      "Model with rank: 3\n",
      "Mean validation score: 0.710 (std: 0.069)\n",
      "Parameters: {'bootstrap': True, 'min_samples_leaf': 10, 'min_samples_split': 3, 'criterion': 'gini', 'max_features': 7, 'max_depth': 3}\n",
      "\n"
     ]
    }
   ],
   "source": [
    "print 'running a grid search with a Random Forest Classifier with '+str(trees)+' trees...'\n",
    "forest = RandomForestClassifier(n_estimators = trees)\n",
    "\n",
    "# run grid search\n",
    "grid_search = GridSearchCV(forest, param_grid=param_grid)\n",
    "start = time()\n",
    "grid_search.fit(Mtrain, target)\n",
    "\n",
    "print(\"GridSearchCV took %.2f seconds for %d candidate parameter settings.\"\n",
    "      % (time() - start, len(grid_search.grid_scores_)))\n",
    "report(grid_search.grid_scores_)"
   ]
  },
  {
   "cell_type": "markdown",
   "metadata": {},
   "source": [
    "Saving Best Model to file !"
   ]
  },
  {
   "cell_type": "code",
   "execution_count": 38,
   "metadata": {
    "collapsed": false
   },
   "outputs": [
    {
     "data": {
      "text/plain": [
       "['Best_RF_model.pkl']"
      ]
     },
     "execution_count": 38,
     "metadata": {},
     "output_type": "execute_result"
    }
   ],
   "source": [
    "forest = RandomForestClassifier(n_estimators = trees, bootstrap = True, min_samples_leaf= 10, min_samples_split= 1, criterion= 'gini', max_features= 7, max_depth= None)\n",
    "fi_best = forest.fit(Mtrain, target)\n",
    "joblib.dump(fi_best, 'Best_RF_model.pkl',compress=9)"
   ]
  },
  {
   "cell_type": "code",
   "execution_count": 63,
   "metadata": {
    "collapsed": false
   },
   "outputs": [
    {
     "name": "stdout",
     "output_type": "stream",
     "text": [
      "feature importance:\n"
     ]
    },
    {
     "data": {
      "image/png": "[encoded data removed]",
      "text/plain": [
       "<matplotlib.figure.Figure at 0x7fa1d6842390>"
      ]
     },
     "metadata": {},
     "output_type": "display_data"
    }
   ],
   "source": [
    "print 'feature importance:'\n",
    "\n",
    "N = 7\n",
    "ind = np.arange(N)    # the x locations for the groups\n",
    "width = 0.35       # the width of the bars: can also be len(x) sequence\n",
    "\n",
    "p1 = plt.bar(ind,fi_best.feature_importances_, width, color='r')\n",
    "\n",
    "plt.ylabel('%')\n",
    "plt.title('Feature Importance')\n",
    "plt.xticks(ind , ('8-gram', 'punct', 'vocab', 'phrase', 'four_pos','first_pos','last_pos'))\n",
    "plt.yticks(np.arange(0, 1,1))\n",
    "\n",
    "plt.show()\n"
   ]
  },
  {
   "cell_type": "code",
   "execution_count": 40,
   "metadata": {
    "collapsed": false
   },
   "outputs": [
    {
     "name": "stdout",
     "output_type": "stream",
     "text": [
      "Scores of 10 folds and mean:\n",
      "[ 0.7  0.4  0.7  0.8  0.7  0.8  0.7  0.7  0.5  0.6]\n",
      "Accurancy : \n",
      "0.66\n"
     ]
    }
   ],
   "source": [
    "print 'Scores of '+ str(crossval) +' folds and mean:'\n",
    "scores = cross_validation.cross_val_score(forest, Mtrain, np.array(target), cv = crossval)\n",
    "print scores\n",
    "print 'Accurancy : '\n",
    "print scores.mean()"
   ]
  }
 ],
 "metadata": {
  "kernelspec": {
   "display_name": "Python 2",
   "language": "python",
   "name": "python2"
  },
  "language_info": {
   "codemirror_mode": {
    "name": "ipython",
    "version": 2
   },
   "file_extension": ".py",
   "mimetype": "text/x-python",
   "name": "python",
   "nbconvert_exporter": "python",
   "pygments_lexer": "ipython2",
   "version": "2.7.10"
  }
 },
 "nbformat": 4,
 "nbformat_minor": 0
}
